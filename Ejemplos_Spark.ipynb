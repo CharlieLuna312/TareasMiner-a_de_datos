{
  "nbformat": 4,
  "nbformat_minor": 0,
  "metadata": {
    "colab": {
      "name": "Ejemplos_Spark.ipynb",
      "provenance": []
    },
    "kernelspec": {
      "name": "python3",
      "display_name": "Python 3"
    },
    "language_info": {
      "name": "python"
    }
  },
  "cells": [
    {
      "cell_type": "markdown",
      "source": [
        "#Ejemplos en PySparck\n",
        "```\n",
        "Estudiante: Charlie Joel Luna Ccasani\n",
        "Código    : 161368\n",
        "Lugar     : Cusco, Perú, 2022.\n",
        "Propósito : PySpark:\n",
        "```"
      ],
      "metadata": {
        "id": "VDD9zZILe8xA"
      }
    },
    {
      "cell_type": "markdown",
      "source": [
        "##Preparamos el entorno de desarrollo"
      ],
      "metadata": {
        "id": "A9ASswjwfXIM"
      }
    },
    {
      "cell_type": "code",
      "execution_count": null,
      "metadata": {
        "colab": {
          "base_uri": "https://localhost:8080/"
        },
        "id": "kzyX8wsNVXDF",
        "outputId": "3ed85fad-5072-4734-9984-7e8007154522"
      },
      "outputs": [
        {
          "output_type": "stream",
          "name": "stdout",
          "text": [
            "Collecting pyspark\n",
            "  Downloading pyspark-3.2.0.tar.gz (281.3 MB)\n",
            "\u001b[K     |████████████████████████████████| 281.3 MB 39 kB/s \n",
            "\u001b[?25hCollecting py4j==0.10.9.2\n",
            "  Downloading py4j-0.10.9.2-py2.py3-none-any.whl (198 kB)\n",
            "\u001b[K     |████████████████████████████████| 198 kB 48.6 MB/s \n",
            "\u001b[?25hBuilding wheels for collected packages: pyspark\n",
            "  Building wheel for pyspark (setup.py) ... \u001b[?25l\u001b[?25hdone\n",
            "  Created wheel for pyspark: filename=pyspark-3.2.0-py2.py3-none-any.whl size=281805912 sha256=9c59e158a041d108dffc0652ded7e1af3a47e7743aaab4a533e6cd21ac34aabd\n",
            "  Stored in directory: /root/.cache/pip/wheels/0b/de/d2/9be5d59d7331c6c2a7c1b6d1a4f463ce107332b1ecd4e80718\n",
            "Successfully built pyspark\n",
            "Installing collected packages: py4j, pyspark\n",
            "Successfully installed py4j-0.10.9.2 pyspark-3.2.0\n"
          ]
        }
      ],
      "source": [
        "!pip install pyspark"
      ]
    },
    {
      "cell_type": "code",
      "source": [
        "from pyspark import SparkContext, SparkConf\n",
        "conf=SparkConf().setAppName(\"Tarea_Spark\")\n",
        "sc=SparkContext(conf=conf)"
      ],
      "metadata": {
        "id": "5o-pchR-V7kG"
      },
      "execution_count": null,
      "outputs": []
    },
    {
      "cell_type": "markdown",
      "source": [
        "##1. Escalonamiento de datos"
      ],
      "metadata": {
        "id": "LEfGtW9txnud"
      }
    },
    {
      "cell_type": "code",
      "source": [
        "data1=[(10),(34),(56),(72),(64),(75),(72),(15),(27),(46),(51),(13),(35),(76),(89),(43),(12)]\n",
        "lista=sc.parallelize(data1)"
      ],
      "metadata": {
        "id": "ZK47p13bxy9y"
      },
      "execution_count": null,
      "outputs": []
    },
    {
      "cell_type": "code",
      "source": [
        "min = lista.min()\n",
        "max = lista.max()\n",
        "minmax_scale = (lista.map(lambda x: (x - min)/(max - min)))\n",
        "# minmax_scale\n",
        "print(minmax_scale.collect())"
      ],
      "metadata": {
        "colab": {
          "base_uri": "https://localhost:8080/"
        },
        "id": "mz0cym8vxncX",
        "outputId": "4cd292b0-8b1b-4263-9bdd-ab1a8389e354"
      },
      "execution_count": null,
      "outputs": [
        {
          "output_type": "stream",
          "name": "stdout",
          "text": [
            "[0.0, 0.3037974683544304, 0.5822784810126582, 0.7848101265822784, 0.6835443037974683, 0.8227848101265823, 0.7848101265822784, 0.06329113924050633, 0.21518987341772153, 0.45569620253164556, 0.5189873417721519, 0.0379746835443038, 0.31645569620253167, 0.8354430379746836, 1.0, 0.4177215189873418, 0.02531645569620253]\n"
          ]
        }
      ]
    },
    {
      "cell_type": "markdown",
      "source": [
        "##2. Normalización"
      ],
      "metadata": {
        "id": "-29HznjPyvoT"
      }
    },
    {
      "cell_type": "code",
      "source": [
        "norm = lista.map(lambda x: x/max)\n",
        "print(norm.collect())"
      ],
      "metadata": {
        "colab": {
          "base_uri": "https://localhost:8080/"
        },
        "id": "1b_pPxvey1PO",
        "outputId": "51c5ed07-ace5-4194-9ab4-59ec9c874ac1"
      },
      "execution_count": null,
      "outputs": [
        {
          "output_type": "stream",
          "name": "stdout",
          "text": [
            "[0.11235955056179775, 0.38202247191011235, 0.6292134831460674, 0.8089887640449438, 0.7191011235955056, 0.8426966292134831, 0.8089887640449438, 0.16853932584269662, 0.30337078651685395, 0.5168539325842697, 0.5730337078651685, 0.14606741573033707, 0.39325842696629215, 0.8539325842696629, 1.0, 0.48314606741573035, 0.1348314606741573]\n"
          ]
        }
      ]
    },
    {
      "cell_type": "markdown",
      "source": [
        "##3. Term-Frequency"
      ],
      "metadata": {
        "id": "k06AaMVif7BV"
      }
    },
    {
      "cell_type": "markdown",
      "source": [
        "###Crearemos un conjunto de datos para el ejemplo (todo en minúsculas y en inglés)"
      ],
      "metadata": {
        "id": "77iPIMhugDKT"
      }
    },
    {
      "cell_type": "code",
      "source": [
        "data=[(1,'Yo amo mi gato'),(2,\"Yo odio mi gato pero me gusta cantar\"),(3,\"Amo cantar y me encanta hacerlo\")]\n",
        "lines=sc.parallelize(data)\n",
        "lines.collect()"
      ],
      "metadata": {
        "colab": {
          "base_uri": "https://localhost:8080/"
        },
        "id": "eeUVSLT6gYRy",
        "outputId": "162d8a96-8329-436b-bbe3-5672015bcb4d"
      },
      "execution_count": null,
      "outputs": [
        {
          "output_type": "execute_result",
          "data": {
            "text/plain": [
              "[(1, 'Yo amo mi gato'),\n",
              " (2, 'Yo odio mi gato pero me gusta cantar'),\n",
              " (3, 'Amo cantar y me encanta hacerlo')]"
            ]
          },
          "metadata": {},
          "execution_count": 52
        }
      ]
    },
    {
      "cell_type": "markdown",
      "source": [
        "###Asignamos pares de claves a través de la función FlatMap para enlistarlos"
      ],
      "metadata": {
        "id": "Us7Ob_GRglWX"
      }
    },
    {
      "cell_type": "code",
      "source": [
        "map1=lines.flatMap(lambda x: [((x[0],i),1) for i in x[1].split()])\n",
        "map1.collect()"
      ],
      "metadata": {
        "colab": {
          "base_uri": "https://localhost:8080/"
        },
        "id": "E5KOb1Bhhipr",
        "outputId": "6a87c668-d0fb-478f-b68f-335cbf462f0b"
      },
      "execution_count": null,
      "outputs": [
        {
          "output_type": "execute_result",
          "data": {
            "text/plain": [
              "[((1, 'Yo'), 1),\n",
              " ((1, 'amo'), 1),\n",
              " ((1, 'mi'), 1),\n",
              " ((1, 'gato'), 1),\n",
              " ((2, 'Yo'), 1),\n",
              " ((2, 'odio'), 1),\n",
              " ((2, 'mi'), 1),\n",
              " ((2, 'gato'), 1),\n",
              " ((2, 'pero'), 1),\n",
              " ((2, 'me'), 1),\n",
              " ((2, 'gusta'), 1),\n",
              " ((2, 'cantar'), 1),\n",
              " ((3, 'Amo'), 1),\n",
              " ((3, 'cantar'), 1),\n",
              " ((3, 'y'), 1),\n",
              " ((3, 'me'), 1),\n",
              " ((3, 'encanta'), 1),\n",
              " ((3, 'hacerlo'), 1)]"
            ]
          },
          "metadata": {},
          "execution_count": 53
        }
      ]
    },
    {
      "cell_type": "markdown",
      "source": [
        "###Reducimos los pares encontrando para obtener su frecuencia"
      ],
      "metadata": {
        "id": "J5lbTCAmh00z"
      }
    },
    {
      "cell_type": "code",
      "source": [
        "reduce=map1.reduceByKey(lambda x,y:x+y)\n",
        "reduce.collect()"
      ],
      "metadata": {
        "colab": {
          "base_uri": "https://localhost:8080/"
        },
        "id": "aTKWCyCJh7bA",
        "outputId": "1778b357-904a-4d4e-92c3-a2d53b121647"
      },
      "execution_count": null,
      "outputs": [
        {
          "output_type": "execute_result",
          "data": {
            "text/plain": [
              "[((1, 'Yo'), 1),\n",
              " ((1, 'amo'), 1),\n",
              " ((1, 'gato'), 1),\n",
              " ((2, 'odio'), 1),\n",
              " ((2, 'mi'), 1),\n",
              " ((2, 'pero'), 1),\n",
              " ((2, 'gusta'), 1),\n",
              " ((2, 'cantar'), 1),\n",
              " ((3, 'Amo'), 1),\n",
              " ((3, 'me'), 1),\n",
              " ((3, 'encanta'), 1),\n",
              " ((1, 'mi'), 1),\n",
              " ((2, 'Yo'), 1),\n",
              " ((2, 'gato'), 1),\n",
              " ((2, 'me'), 1),\n",
              " ((3, 'cantar'), 1),\n",
              " ((3, 'y'), 1),\n",
              " ((3, 'hacerlo'), 1)]"
            ]
          },
          "metadata": {},
          "execution_count": 54
        }
      ]
    },
    {
      "cell_type": "markdown",
      "source": [
        "###Organizamos los datos mapeando en una función lamda"
      ],
      "metadata": {
        "id": "hn4dXBlPh_9c"
      }
    },
    {
      "cell_type": "code",
      "source": [
        "tf=reduce.map(lambda x: (x[0][1],(x[0][0],x[1])))\n",
        "tf.collect()"
      ],
      "metadata": {
        "colab": {
          "base_uri": "https://localhost:8080/"
        },
        "id": "5RJ1qkNaiQbf",
        "outputId": "b43fbbdf-ff3e-44af-dcd0-56921e5b2299"
      },
      "execution_count": null,
      "outputs": [
        {
          "output_type": "execute_result",
          "data": {
            "text/plain": [
              "[('Yo', (1, 1)),\n",
              " ('amo', (1, 1)),\n",
              " ('gato', (1, 1)),\n",
              " ('odio', (2, 1)),\n",
              " ('mi', (2, 1)),\n",
              " ('pero', (2, 1)),\n",
              " ('gusta', (2, 1)),\n",
              " ('cantar', (2, 1)),\n",
              " ('Amo', (3, 1)),\n",
              " ('me', (3, 1)),\n",
              " ('encanta', (3, 1)),\n",
              " ('mi', (1, 1)),\n",
              " ('Yo', (2, 1)),\n",
              " ('gato', (2, 1)),\n",
              " ('me', (2, 1)),\n",
              " ('cantar', (3, 1)),\n",
              " ('y', (3, 1)),\n",
              " ('hacerlo', (3, 1))]"
            ]
          },
          "metadata": {},
          "execution_count": 55
        }
      ]
    },
    {
      "cell_type": "markdown",
      "source": [
        "##4. Cálculo del IDF"
      ],
      "metadata": {
        "id": "Cqt4bzKkiTbI"
      }
    },
    {
      "cell_type": "markdown",
      "source": [
        "###Mapeamos los token con su respectivo identificador TF"
      ],
      "metadata": {
        "id": "sLbGnoc0jlpe"
      }
    },
    {
      "cell_type": "code",
      "source": [
        "map3=reduce.map(lambda x: (x[0][1],(x[0][0],x[1],1)))\n",
        "map3.collect()"
      ],
      "metadata": {
        "colab": {
          "base_uri": "https://localhost:8080/"
        },
        "id": "jBpqQkKLi4N9",
        "outputId": "e960140c-7d3c-4490-e619-bdc869ad016a"
      },
      "execution_count": null,
      "outputs": [
        {
          "output_type": "execute_result",
          "data": {
            "text/plain": [
              "[('Yo', (1, 1, 1)),\n",
              " ('amo', (1, 1, 1)),\n",
              " ('gato', (1, 1, 1)),\n",
              " ('odio', (2, 1, 1)),\n",
              " ('mi', (2, 1, 1)),\n",
              " ('pero', (2, 1, 1)),\n",
              " ('gusta', (2, 1, 1)),\n",
              " ('cantar', (2, 1, 1)),\n",
              " ('Amo', (3, 1, 1)),\n",
              " ('me', (3, 1, 1)),\n",
              " ('encanta', (3, 1, 1)),\n",
              " ('mi', (1, 1, 1)),\n",
              " ('Yo', (2, 1, 1)),\n",
              " ('gato', (2, 1, 1)),\n",
              " ('me', (2, 1, 1)),\n",
              " ('cantar', (3, 1, 1)),\n",
              " ('y', (3, 1, 1)),\n",
              " ('hacerlo', (3, 1, 1))]"
            ]
          },
          "metadata": {},
          "execution_count": 56
        }
      ]
    },
    {
      "cell_type": "markdown",
      "source": [
        "###Extraemos los tokens"
      ],
      "metadata": {
        "id": "FjsD4FjAj5Tk"
      }
    },
    {
      "cell_type": "code",
      "source": [
        "map4=map3.map(lambda x:(x[0],x[1][2]))\n",
        "map4.collect()"
      ],
      "metadata": {
        "colab": {
          "base_uri": "https://localhost:8080/"
        },
        "id": "NK-v0fw3j_be",
        "outputId": "5e9b3225-a884-4429-a2ca-ffb85a123472"
      },
      "execution_count": null,
      "outputs": [
        {
          "output_type": "execute_result",
          "data": {
            "text/plain": [
              "[('Yo', 1),\n",
              " ('amo', 1),\n",
              " ('gato', 1),\n",
              " ('odio', 1),\n",
              " ('mi', 1),\n",
              " ('pero', 1),\n",
              " ('gusta', 1),\n",
              " ('cantar', 1),\n",
              " ('Amo', 1),\n",
              " ('me', 1),\n",
              " ('encanta', 1),\n",
              " ('mi', 1),\n",
              " ('Yo', 1),\n",
              " ('gato', 1),\n",
              " ('me', 1),\n",
              " ('cantar', 1),\n",
              " ('y', 1),\n",
              " ('hacerlo', 1)]"
            ]
          },
          "metadata": {},
          "execution_count": 57
        }
      ]
    },
    {
      "cell_type": "markdown",
      "source": [
        "###Reducimos los pares"
      ],
      "metadata": {
        "id": "W2S72J1wkC2o"
      }
    },
    {
      "cell_type": "code",
      "source": [
        "reduce2=map4.reduceByKey(lambda x,y:x+y)\n",
        "reduce2.collect()"
      ],
      "metadata": {
        "colab": {
          "base_uri": "https://localhost:8080/"
        },
        "id": "YtKxTRWLkIA3",
        "outputId": "287a838a-b785-404e-e239-9cfa413dd8ee"
      },
      "execution_count": null,
      "outputs": [
        {
          "output_type": "execute_result",
          "data": {
            "text/plain": [
              "[('odio', 1),\n",
              " ('mi', 2),\n",
              " ('pero', 1),\n",
              " ('gusta', 1),\n",
              " ('cantar', 2),\n",
              " ('y', 1),\n",
              " ('hacerlo', 1),\n",
              " ('Yo', 2),\n",
              " ('amo', 1),\n",
              " ('gato', 2),\n",
              " ('Amo', 1),\n",
              " ('me', 2),\n",
              " ('encanta', 1)]"
            ]
          },
          "metadata": {},
          "execution_count": 58
        }
      ]
    },
    {
      "cell_type": "markdown",
      "source": [
        "###Calculamos la putuación IDF"
      ],
      "metadata": {
        "id": "IChCF7RwkLRP"
      }
    },
    {
      "cell_type": "code",
      "source": [
        "import math\n",
        "from pyspark.sql.functions import *\n",
        "idf=reduce2.map(lambda x: (x[0],math.log10(len(data)/x[1])))\n",
        "idf.collect()"
      ],
      "metadata": {
        "colab": {
          "base_uri": "https://localhost:8080/"
        },
        "id": "UcZ7d1GckUWx",
        "outputId": "90b9872d-ce4f-4004-bdcc-ee69eea02620"
      },
      "execution_count": null,
      "outputs": [
        {
          "output_type": "execute_result",
          "data": {
            "text/plain": [
              "[('odio', 0.47712125471966244),\n",
              " ('mi', 0.17609125905568124),\n",
              " ('pero', 0.47712125471966244),\n",
              " ('gusta', 0.47712125471966244),\n",
              " ('cantar', 0.17609125905568124),\n",
              " ('y', 0.47712125471966244),\n",
              " ('hacerlo', 0.47712125471966244),\n",
              " ('Yo', 0.17609125905568124),\n",
              " ('amo', 0.47712125471966244),\n",
              " ('gato', 0.17609125905568124),\n",
              " ('Amo', 0.47712125471966244),\n",
              " ('me', 0.17609125905568124),\n",
              " ('encanta', 0.47712125471966244)]"
            ]
          },
          "metadata": {},
          "execution_count": 59
        }
      ]
    },
    {
      "cell_type": "markdown",
      "source": [
        "###Juntamos las puntuaciones del TF e IDF"
      ],
      "metadata": {
        "id": "SH3R5wh2kXct"
      }
    },
    {
      "cell_type": "code",
      "source": [
        "rdd=tf.join(idf)\n",
        "rdd.collect()"
      ],
      "metadata": {
        "colab": {
          "base_uri": "https://localhost:8080/"
        },
        "id": "AOKHHDgEkhAc",
        "outputId": "1d248012-4d96-45c2-fdb1-7835ef447956"
      },
      "execution_count": null,
      "outputs": [
        {
          "output_type": "execute_result",
          "data": {
            "text/plain": [
              "[('cantar', ((2, 1), 0.17609125905568124)),\n",
              " ('cantar', ((3, 1), 0.17609125905568124)),\n",
              " ('y', ((3, 1), 0.47712125471966244)),\n",
              " ('hacerlo', ((3, 1), 0.47712125471966244)),\n",
              " ('Yo', ((1, 1), 0.17609125905568124)),\n",
              " ('Yo', ((2, 1), 0.17609125905568124)),\n",
              " ('gato', ((1, 1), 0.17609125905568124)),\n",
              " ('gato', ((2, 1), 0.17609125905568124)),\n",
              " ('encanta', ((3, 1), 0.47712125471966244)),\n",
              " ('odio', ((2, 1), 0.47712125471966244)),\n",
              " ('mi', ((2, 1), 0.17609125905568124)),\n",
              " ('mi', ((1, 1), 0.17609125905568124)),\n",
              " ('pero', ((2, 1), 0.47712125471966244)),\n",
              " ('gusta', ((2, 1), 0.47712125471966244)),\n",
              " ('amo', ((1, 1), 0.47712125471966244)),\n",
              " ('Amo', ((3, 1), 0.47712125471966244)),\n",
              " ('me', ((3, 1), 0.17609125905568124)),\n",
              " ('me', ((2, 1), 0.17609125905568124))]"
            ]
          },
          "metadata": {},
          "execution_count": 60
        }
      ]
    },
    {
      "cell_type": "markdown",
      "source": [
        "##5.BOW"
      ],
      "metadata": {
        "id": "kZtr9LnXkkXj"
      }
    },
    {
      "cell_type": "code",
      "source": [
        "rdd=rdd.map(lambda x: (x[1][0][0],(x[0],x[1][0][1],x[1][1],x[1][0][1]*x[1][1]))).sortByKey()\n",
        "rdd.collect()"
      ],
      "metadata": {
        "colab": {
          "base_uri": "https://localhost:8080/"
        },
        "id": "DNJT1BmYkqHA",
        "outputId": "505cc145-b144-4b39-8d79-e42ccab54a34"
      },
      "execution_count": null,
      "outputs": [
        {
          "output_type": "execute_result",
          "data": {
            "text/plain": [
              "[(1, ('Yo', 1, 0.17609125905568124, 0.17609125905568124)),\n",
              " (1, ('gato', 1, 0.17609125905568124, 0.17609125905568124)),\n",
              " (1, ('mi', 1, 0.17609125905568124, 0.17609125905568124)),\n",
              " (1, ('amo', 1, 0.47712125471966244, 0.47712125471966244)),\n",
              " (2, ('cantar', 1, 0.17609125905568124, 0.17609125905568124)),\n",
              " (2, ('Yo', 1, 0.17609125905568124, 0.17609125905568124)),\n",
              " (2, ('gato', 1, 0.17609125905568124, 0.17609125905568124)),\n",
              " (2, ('odio', 1, 0.47712125471966244, 0.47712125471966244)),\n",
              " (2, ('mi', 1, 0.17609125905568124, 0.17609125905568124)),\n",
              " (2, ('pero', 1, 0.47712125471966244, 0.47712125471966244)),\n",
              " (2, ('gusta', 1, 0.47712125471966244, 0.47712125471966244)),\n",
              " (2, ('me', 1, 0.17609125905568124, 0.17609125905568124)),\n",
              " (3, ('cantar', 1, 0.17609125905568124, 0.17609125905568124)),\n",
              " (3, ('y', 1, 0.47712125471966244, 0.47712125471966244)),\n",
              " (3, ('hacerlo', 1, 0.47712125471966244, 0.47712125471966244)),\n",
              " (3, ('encanta', 1, 0.47712125471966244, 0.47712125471966244)),\n",
              " (3, ('Amo', 1, 0.47712125471966244, 0.47712125471966244)),\n",
              " (3, ('me', 1, 0.17609125905568124, 0.17609125905568124))]"
            ]
          },
          "metadata": {},
          "execution_count": 61
        }
      ]
    }
  ]
}